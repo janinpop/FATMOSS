{
 "cells": [
  {
   "cell_type": "code",
   "execution_count": 2,
   "metadata": {},
   "outputs": [
    {
     "name": "stderr",
     "output_type": "stream",
     "text": [
      "/Users/pjanin/Documents/GitHub/FATMOSS/misc.py:21: UserWarning: CuPy is not installed. Using NumPy backend.\n",
      "  warnings.warn('CuPy is not installed. Using NumPy backend.')\n"
     ]
    }
   ],
   "source": [
    "import numpy as np\n",
    "import matplotlib.pyplot as plt\n",
    "from tqdm import tqdm\n",
    "import time\n",
    "from phase_generator import *"
   ]
  },
  {
   "cell_type": "markdown",
   "metadata": {},
   "source": [
    "Initalize simulation parameters and the simulator"
   ]
  },
  {
   "cell_type": "code",
   "execution_count": 3,
   "metadata": {},
   "outputs": [],
   "source": [
    "# Parameters\n",
    "D  = 8.0  # Size of the phase screen [m]\n",
    "r0 = 0.1  # Fried parameter [m]\n",
    "L0 = 25.0 # Outer scale [m]\n",
    "\n",
    "dx = r0 / 3.0 # Spatial sampling interval [m/pixel], make sure r0 is Nyquist sampled\n",
    "dt = 0.001 # Time step [s/step]\n",
    "\n",
    "wind_speed = 40 # [m/s]\n",
    "wind_direction = 15 # [degree]\n",
    "boiling_factor = 500 # [a.u], need to figure them out\n",
    "\n",
    "screen_generator = CascadedPhaseGenerator(D, dx, dt, batch_size=config['batch_size'], n_cascades=3)\n",
    "screen_generator.AddLayer(1.0, r0, L0, wind_speed, wind_direction, boiling_factor)\n",
    "# screen_generator.AddLayer(0.5, r0/2., L0, wind_speed*2, wind_direction*4, boiling_factor)"
   ]
  },
  {
   "cell_type": "markdown",
   "metadata": {},
   "source": [
    "Generate 1000 atmospheric phase screens. Even though the phase screens here are accesses one by one, the batch with $N_{screens}$ is pre-generated. Then, the screens are read from it."
   ]
  },
  {
   "cell_type": "code",
   "execution_count": 4,
   "metadata": {},
   "outputs": [
    {
     "name": "stderr",
     "output_type": "stream",
     "text": [
      "  0%|          | 0/1000 [00:00<?, ?it/s]\n"
     ]
    },
    {
     "ename": "ValueError",
     "evalue": "need at least one array to stack",
     "output_type": "error",
     "traceback": [
      "\u001b[0;31m---------------------------------------------------------------------------\u001b[0m",
      "\u001b[0;31mValueError\u001b[0m                                Traceback (most recent call last)",
      "Cell \u001b[0;32mIn[4], line 14\u001b[0m\n\u001b[1;32m     11\u001b[0m \u001b[38;5;28;01melse\u001b[39;00m:\n\u001b[1;32m     12\u001b[0m     start \u001b[38;5;241m=\u001b[39m time\u001b[38;5;241m.\u001b[39mtime()\n\u001b[0;32m---> 14\u001b[0m screens_cascade\u001b[38;5;241m.\u001b[39mappend(\u001b[43mscreen_generator\u001b[49m\u001b[38;5;241;43m.\u001b[39;49m\u001b[43mGetScreenByTimestep\u001b[49m\u001b[43m(\u001b[49m\u001b[43mi\u001b[49m\u001b[43m)\u001b[49m)\n\u001b[1;32m     16\u001b[0m \u001b[38;5;28;01mif\u001b[39;00m GPU_flag:\n\u001b[1;32m     17\u001b[0m     end\u001b[38;5;241m.\u001b[39mrecord()\n",
      "File \u001b[0;32m~/Documents/GitHub/FATMOSS/phase_generator.py:327\u001b[0m, in \u001b[0;36mCascadedPhaseGenerator.GetScreenByTimestep\u001b[0;34m(self, id)\u001b[0m\n\u001b[1;32m    325\u001b[0m batch_id \u001b[38;5;241m=\u001b[39m \u001b[38;5;28mid\u001b[39m \u001b[38;5;241m/\u001b[39m\u001b[38;5;241m/\u001b[39m \u001b[38;5;28mself\u001b[39m\u001b[38;5;241m.\u001b[39mnum_screens\n\u001b[1;32m    326\u001b[0m screen_id \u001b[38;5;241m=\u001b[39m \u001b[38;5;28mid\u001b[39m \u001b[38;5;241m%\u001b[39m \u001b[38;5;28mself\u001b[39m\u001b[38;5;241m.\u001b[39mnum_screens\n\u001b[0;32m--> 327\u001b[0m batch \u001b[38;5;241m=\u001b[39m \u001b[38;5;28;43mself\u001b[39;49m\u001b[38;5;241;43m.\u001b[39;49m\u001b[43mUpdateScreensBatch\u001b[49m\u001b[43m(\u001b[49m\u001b[43mbatch_id\u001b[49m\u001b[43m)\u001b[49m\n\u001b[1;32m    329\u001b[0m \u001b[38;5;28;01mreturn\u001b[39;00m batch[\u001b[38;5;241m.\u001b[39m\u001b[38;5;241m.\u001b[39m\u001b[38;5;241m.\u001b[39m, screen_id]\n",
      "File \u001b[0;32m~/Documents/GitHub/FATMOSS/phase_generator.py:320\u001b[0m, in \u001b[0;36mCascadedPhaseGenerator.UpdateScreensBatch\u001b[0;34m(self, batch_id)\u001b[0m\n\u001b[1;32m    318\u001b[0m     \u001b[38;5;28mself\u001b[39m\u001b[38;5;241m.\u001b[39mcurrent_batch_id \u001b[38;5;241m=\u001b[39m batch_id\n\u001b[1;32m    319\u001b[0m     buf \u001b[38;5;241m=\u001b[39m [layer\u001b[38;5;241m.\u001b[39mGenerateScreensBatch() \u001b[38;5;241m*\u001b[39m layer\u001b[38;5;241m.\u001b[39mweight \u001b[38;5;28;01mfor\u001b[39;00m layer \u001b[38;5;129;01min\u001b[39;00m \u001b[38;5;28mself\u001b[39m\u001b[38;5;241m.\u001b[39mlayers]\n\u001b[0;32m--> 320\u001b[0m     \u001b[38;5;28mself\u001b[39m\u001b[38;5;241m.\u001b[39mscreens_all_layers \u001b[38;5;241m=\u001b[39m \u001b[43mxp\u001b[49m\u001b[38;5;241;43m.\u001b[39;49m\u001b[43mstack\u001b[49m\u001b[43m(\u001b[49m\u001b[43mbuf\u001b[49m\u001b[43m,\u001b[49m\u001b[43m \u001b[49m\u001b[43maxis\u001b[49m\u001b[38;5;241;43m=\u001b[39;49m\u001b[38;5;241;43m-\u001b[39;49m\u001b[38;5;241;43m1\u001b[39;49m\u001b[43m)\u001b[49m\u001b[38;5;241m.\u001b[39msum(axis\u001b[38;5;241m=\u001b[39m\u001b[38;5;241m-\u001b[39m\u001b[38;5;241m1\u001b[39m)\n\u001b[1;32m    322\u001b[0m \u001b[38;5;28;01mreturn\u001b[39;00m \u001b[38;5;28mself\u001b[39m\u001b[38;5;241m.\u001b[39mscreens_all_layers\n",
      "File \u001b[0;32m~/anaconda3/envs/DOSSA/lib/python3.10/site-packages/numpy/core/shape_base.py:445\u001b[0m, in \u001b[0;36mstack\u001b[0;34m(arrays, axis, out, dtype, casting)\u001b[0m\n\u001b[1;32m    443\u001b[0m arrays \u001b[38;5;241m=\u001b[39m [asanyarray(arr) \u001b[38;5;28;01mfor\u001b[39;00m arr \u001b[38;5;129;01min\u001b[39;00m arrays]\n\u001b[1;32m    444\u001b[0m \u001b[38;5;28;01mif\u001b[39;00m \u001b[38;5;129;01mnot\u001b[39;00m arrays:\n\u001b[0;32m--> 445\u001b[0m     \u001b[38;5;28;01mraise\u001b[39;00m \u001b[38;5;167;01mValueError\u001b[39;00m(\u001b[38;5;124m'\u001b[39m\u001b[38;5;124mneed at least one array to stack\u001b[39m\u001b[38;5;124m'\u001b[39m)\n\u001b[1;32m    447\u001b[0m shapes \u001b[38;5;241m=\u001b[39m {arr\u001b[38;5;241m.\u001b[39mshape \u001b[38;5;28;01mfor\u001b[39;00m arr \u001b[38;5;129;01min\u001b[39;00m arrays}\n\u001b[1;32m    448\u001b[0m \u001b[38;5;28;01mif\u001b[39;00m \u001b[38;5;28mlen\u001b[39m(shapes) \u001b[38;5;241m!=\u001b[39m \u001b[38;5;241m1\u001b[39m:\n",
      "\u001b[0;31mValueError\u001b[0m: need at least one array to stack"
     ]
    }
   ],
   "source": [
    "if GPU_flag:\n",
    "    start = cp.cuda.Event()\n",
    "    end   = cp.cuda.Event()\n",
    "\n",
    "total_time = 0\n",
    "screens_cascade = []\n",
    "\n",
    "for i in tqdm(range(1000)):\n",
    "    if GPU_flag:\n",
    "        start.record()\n",
    "    else:\n",
    "        start = time.time()\n",
    "        \n",
    "    screens_cascade.append(screen_generator.GetScreenByTimestep(i))\n",
    "    \n",
    "    if GPU_flag:\n",
    "        end.record()\n",
    "        end.synchronize()\n",
    "        total_time += cp.cuda.get_elapsed_time(start, end)  # Time in [ms]\n",
    "    else:\n",
    "        end = time.time()\n",
    "        total_time += (end-start) * 1000\n",
    "\n",
    "screens_cascade = xp.dstack(screens_cascade)\n",
    "\n",
    "print(f\"Total elapsed time: {np.round(total_time/1e3,1)} [s]\")\n",
    "print(f\"Time per sreen: {np.round(total_time/screen_generator.num_screens).astype(xp.uint16)} [ms]\")"
   ]
  },
  {
   "cell_type": "code",
   "execution_count": 20,
   "metadata": {},
   "outputs": [
    {
     "data": {
      "image/png": "[encoded data removed]",
      "text/plain": [
       "<Figure size 640x480 with 1 Axes>"
      ]
     },
     "metadata": {},
     "output_type": "display_data"
    },
    {
     "name": "stderr",
     "output_type": "stream",
     "text": [
      "/var/folders/7t/065x1t751d328nctyly8v49r0000gn/T/ipykernel_15401/2211517937.py:12: UserWarning: FigureCanvasAgg is non-interactive, and thus cannot be shown\n",
      "  fig.show()\n"
     ]
    }
   ],
   "source": [
    "fig, ax = plt.subplots(1,1)\n",
    "for i in range(1000):\n",
    "\n",
    "    plt.show()\n",
    "\n",
    "    ax.imshow(screens_cascade[:,:,i])\n",
    "    ax.set_title(i)\n",
    "    \n",
    "    plt.pause(.001)\n",
    "\n",
    "ax.imshow(screens_cascade[:,:,i])\n",
    "fig.show()\n"
   ]
  },
  {
   "cell_type": "code",
   "execution_count": 21,
   "metadata": {},
   "outputs": [
    {
     "data": {
      "text/plain": [
       "array([[[21.125906 ,  7.041969 ,  2.347323 ],\n",
       "        [21.03879  ,  7.01293  ,  2.3376434],\n",
       "        [20.95204  ,  6.984013 ,  2.3280044],\n",
       "        ...,\n",
       "        [20.95204  ,  6.984013 ,  2.3280044],\n",
       "        [21.03879  ,  7.01293  ,  2.3376434],\n",
       "        [21.125906 ,  7.041969 ,  2.347323 ]],\n",
       "\n",
       "       [[21.03879  ,  7.01293  ,  2.3376434],\n",
       "        [20.951311 ,  6.983771 ,  2.3279235],\n",
       "        [20.864197 ,  6.9547324,  2.3182442],\n",
       "        ...,\n",
       "        [20.864197 ,  6.9547324,  2.3182442],\n",
       "        [20.951311 ,  6.983771 ,  2.3279235],\n",
       "        [21.03879  ,  7.01293  ,  2.3376434]],\n",
       "\n",
       "       [[20.95204  ,  6.984013 ,  2.3280044],\n",
       "        [20.864197 ,  6.9547324,  2.3182442],\n",
       "        [20.776718 ,  6.9255724,  2.3085241],\n",
       "        ...,\n",
       "        [20.776718 ,  6.9255724,  2.3085241],\n",
       "        [20.864197 ,  6.9547324,  2.3182442],\n",
       "        [20.95204  ,  6.984013 ,  2.3280044]],\n",
       "\n",
       "       ...,\n",
       "\n",
       "       [[20.95204  ,  6.984013 ,  2.3280044],\n",
       "        [20.864197 ,  6.9547324,  2.3182442],\n",
       "        [20.776718 ,  6.9255724,  2.3085241],\n",
       "        ...,\n",
       "        [20.776718 ,  6.9255724,  2.3085241],\n",
       "        [20.864197 ,  6.9547324,  2.3182442],\n",
       "        [20.95204  ,  6.984013 ,  2.3280044]],\n",
       "\n",
       "       [[21.03879  ,  7.01293  ,  2.3376434],\n",
       "        [20.951311 ,  6.983771 ,  2.3279235],\n",
       "        [20.864197 ,  6.9547324,  2.3182442],\n",
       "        ...,\n",
       "        [20.864197 ,  6.9547324,  2.3182442],\n",
       "        [20.951311 ,  6.983771 ,  2.3279235],\n",
       "        [21.03879  ,  7.01293  ,  2.3376434]],\n",
       "\n",
       "       [[21.125906 ,  7.041969 ,  2.347323 ],\n",
       "        [21.03879  ,  7.01293  ,  2.3376434],\n",
       "        [20.95204  ,  6.984013 ,  2.3280044],\n",
       "        ...,\n",
       "        [20.95204  ,  6.984013 ,  2.3280044],\n",
       "        [21.03879  ,  7.01293  ,  2.3376434],\n",
       "        [21.125906 ,  7.041969 ,  2.347323 ]]], dtype=float32)"
      ]
     },
     "execution_count": 21,
     "metadata": {},
     "output_type": "execute_result"
    }
   ],
   "source": [
    "screen_generator.f"
   ]
  },
  {
   "cell_type": "markdown",
   "metadata": {},
   "source": [
    "Save as video file"
   ]
  },
  {
   "cell_type": "code",
   "execution_count": 4,
   "metadata": {},
   "outputs": [
    {
     "name": "stdout",
     "output_type": "stream",
     "text": [
      "Writing video...\n"
     ]
    },
    {
     "name": "stderr",
     "output_type": "stream",
     "text": [
      "100%|██████████| 1000/1000 [00:05<00:00, 174.49it/s]\n"
     ]
    }
   ],
   "source": [
    "SaveVideo(screens_cascade)"
   ]
  },
  {
   "cell_type": "markdown",
   "metadata": {},
   "source": [
    "Compare the PSD estimated from the series of previously generated screens with a theoretical oversampled PSD"
   ]
  },
  {
   "cell_type": "code",
   "execution_count": 5,
   "metadata": {},
   "outputs": [
    {
     "ename": "NameError",
     "evalue": "name 'radialize_PSD' is not defined",
     "output_type": "error",
     "traceback": [
      "\u001b[0;31m---------------------------------------------------------------------------\u001b[0m",
      "\u001b[0;31mNameError\u001b[0m                                 Traceback (most recent call last)",
      "Cell \u001b[0;32mIn[5], line 13\u001b[0m\n\u001b[1;32m      9\u001b[0m \u001b[38;5;28;01mif\u001b[39;00m GPU_flag:\n\u001b[1;32m     10\u001b[0m     PSD_out \u001b[38;5;241m=\u001b[39m cp\u001b[38;5;241m.\u001b[39masnumpy(PSD_out)\n\u001b[0;32m---> 13\u001b[0m \u001b[43mradialize_PSD\u001b[49m(PSD_ultimate, f_over, \u001b[38;5;124m'\u001b[39m\u001b[38;5;124mUltimate PSD\u001b[39m\u001b[38;5;124m'\u001b[39m)\n\u001b[1;32m     14\u001b[0m radialize_PSD(PSD_out, screen_generator\u001b[38;5;241m.\u001b[39mf[\u001b[38;5;241m.\u001b[39m\u001b[38;5;241m.\u001b[39m\u001b[38;5;241m.\u001b[39m,\u001b[38;5;241m0\u001b[39m], \u001b[38;5;124m'\u001b[39m\u001b[38;5;124mReconstructed PSD\u001b[39m\u001b[38;5;124m'\u001b[39m)\n\u001b[1;32m     16\u001b[0m plt\u001b[38;5;241m.\u001b[39mgrid()\n",
      "\u001b[0;31mNameError\u001b[0m: name 'radialize_PSD' is not defined"
     ]
    }
   ],
   "source": [
    "oversampling_factor = 17\n",
    "_,_,f_over, df_over = screen_generator.freq_array(screen_generator.N*oversampling_factor, dx)\n",
    "\n",
    "rad2nm = 500.0 / 2.0 / np.pi # [nm/rad]\n",
    "\n",
    "PSD_ultimate = screen_generator.vonKarmanPSD(f_over, r0, L0) * df_over**2 * rad2nm**2 * oversampling_factor**2\n",
    "\n",
    "PSD_out = PSD_to_phase(screens_cascade)\n",
    "if GPU_flag:\n",
    "    PSD_out = cp.asnumpy(PSD_out)\n",
    "\n",
    "\n",
    "radialize_PSD(PSD_ultimate, f_over, 'Ultimate PSD')\n",
    "radialize_PSD(PSD_out, screen_generator.f[...,0], 'Reconstructed PSD')\n",
    "\n",
    "plt.grid()\n",
    "plt.title('Theoretical oversampled PSD vs. PSD from phases')\n",
    "plt.legend()\n",
    "plt.yscale('log')\n",
    "plt.xscale('log')\n",
    "plt.xlabel('Spatial frequency [1/m]')\n",
    "plt.ylabel(r'$PSD [nm^2/m^2]$')\n",
    "plt.show()"
   ]
  },
  {
   "cell_type": "code",
   "execution_count": null,
   "metadata": {},
   "outputs": [],
   "source": []
  }
 ],
 "metadata": {
  "kernelspec": {
   "display_name": "AO-torch",
   "language": "python",
   "name": "python3"
  },
  "language_info": {
   "codemirror_mode": {
    "name": "ipython",
    "version": 3
   },
   "file_extension": ".py",
   "mimetype": "text/x-python",
   "name": "python",
   "nbconvert_exporter": "python",
   "pygments_lexer": "ipython3",
   "version": "3.10.12"
  }
 },
 "nbformat": 4,
 "nbformat_minor": 2
}
